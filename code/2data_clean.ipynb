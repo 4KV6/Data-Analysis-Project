{
 "cells": [
  {
   "cell_type": "markdown",
   "metadata": {},
   "source": [
    "## 2. การทำความสะอาดข้อมูล หรือคัดกรองข้อมูล\n",
    "\n",
    "จากขั้นตอนที่แล้ว เริ่มจากดูชนิดของข้อมูลก่อน"
   ]
  },
  {
   "cell_type": "code",
   "execution_count": 16,
   "metadata": {},
   "outputs": [],
   "source": [
    "import pandas as pd"
   ]
  },
  {
   "cell_type": "code",
   "execution_count": 2,
   "metadata": {},
   "outputs": [],
   "source": [
    "data_daily = pd.read_csv(\"../data/stations_daily.csv\")\n",
    "data_hourly = pd.read_csv(\"../data/stations_hourly.csv\")"
   ]
  },
  {
   "cell_type": "code",
   "execution_count": 17,
   "metadata": {},
   "outputs": [
    {
     "name": "stdout",
     "output_type": "stream",
     "text": [
      "<class 'pandas.core.frame.DataFrame'>\n",
      "RangeIndex: 231592 entries, 0 to 231591\n",
      "Data columns (total 27 columns):\n",
      " #   Column      Non-Null Count   Dtype  \n",
      "---  ------      --------------   -----  \n",
      " 0   datetime    231592 non-null  object \n",
      " 1   station_id  231592 non-null  int64  \n",
      " 2   PM2.5       161698 non-null  float64\n",
      " 3   PM10        180481 non-null  float64\n",
      " 4   NOx         112881 non-null  float64\n",
      " 5   O3          192957 non-null  float64\n",
      " 6   CO          175493 non-null  float64\n",
      " 7   HR          123285 non-null  float64\n",
      " 8   NO          118154 non-null  float64\n",
      " 9   NO2         169286 non-null  float64\n",
      " 10  TMP         127015 non-null  float64\n",
      " 11  BEN         775 non-null     float64\n",
      " 12  CH4         270 non-null     float64\n",
      " 13  CN          595 non-null     float64\n",
      " 14  CO2         56 non-null      float64\n",
      " 15  H2S         280 non-null     float64\n",
      " 16  HCNM        279 non-null     float64\n",
      " 17  HCT         0 non-null       float64\n",
      " 18  HRI         10205 non-null   float64\n",
      " 19  IUV         4936 non-null    float64\n",
      " 20  PB          91738 non-null   float64\n",
      " 21  PP          75346 non-null   float64\n",
      " 22  PST         0 non-null       float64\n",
      " 23  RS          75507 non-null   float64\n",
      " 24  TMPI        34385 non-null   float64\n",
      " 25  UVA         16090 non-null   float64\n",
      " 26  XIL         775 non-null     float64\n",
      "dtypes: float64(25), int64(1), object(1)\n",
      "memory usage: 47.7+ MB\n"
     ]
    }
   ],
   "source": [
    "data_daily.info(verbose=True, show_counts=True)"
   ]
  },
  {
   "cell_type": "code",
   "execution_count": 18,
   "metadata": {},
   "outputs": [
    {
     "name": "stdout",
     "output_type": "stream",
     "text": [
      "<class 'pandas.core.frame.DataFrame'>\n",
      "RangeIndex: 5951903 entries, 0 to 5951902\n",
      "Data columns (total 27 columns):\n",
      " #   Column      Non-Null Count    Dtype  \n",
      "---  ------      --------------    -----  \n",
      " 0   datetime    5951903 non-null  object \n",
      " 1   station_id  5951903 non-null  int64  \n",
      " 2   PM2.5       4051918 non-null  float64\n",
      " 3   PM10        4637964 non-null  float64\n",
      " 4   NOx         3046803 non-null  float64\n",
      " 5   O3          4914802 non-null  float64\n",
      " 6   CO          4542033 non-null  float64\n",
      " 7   HR          3388063 non-null  float64\n",
      " 8   NO          3134901 non-null  float64\n",
      " 9   NO2         4344013 non-null  float64\n",
      " 10  TMP         3467518 non-null  float64\n",
      " 11  BEN         18323 non-null    float64\n",
      " 12  CH4         4214 non-null     float64\n",
      " 13  CN          12645 non-null    float64\n",
      " 14  CO2         1319 non-null     float64\n",
      " 15  H2S         4674 non-null     float64\n",
      " 16  HCNM        4378 non-null     float64\n",
      " 17  HCT         0 non-null        float64\n",
      " 18  HRI         777220 non-null   float64\n",
      " 19  IUV         108849 non-null   float64\n",
      " 20  PB          2099985 non-null  float64\n",
      " 21  PP          2267195 non-null  float64\n",
      " 22  PST         0 non-null        float64\n",
      " 23  RS          1653531 non-null  float64\n",
      " 24  TMPI        1378079 non-null  float64\n",
      " 25  UVA         375454 non-null   float64\n",
      " 26  XIL         18323 non-null    float64\n",
      "dtypes: float64(25), int64(1), object(1)\n",
      "memory usage: 1.2+ GB\n"
     ]
    }
   ],
   "source": [
    "data_hourly.info(verbose=True, show_counts=True)"
   ]
  },
  {
   "cell_type": "markdown",
   "metadata": {},
   "source": [
    "สังเกต column ที่ datetime ไม่เป็น datetime type จำเป็นต้องแปลง"
   ]
  }
 ],
 "metadata": {
  "kernelspec": {
   "display_name": "Python 3",
   "language": "python",
   "name": "python3"
  },
  "language_info": {
   "codemirror_mode": {
    "name": "ipython",
    "version": 3
   },
   "file_extension": ".py",
   "mimetype": "text/x-python",
   "name": "python",
   "nbconvert_exporter": "python",
   "pygments_lexer": "ipython3",
   "version": "3.11.5"
  },
  "orig_nbformat": 4
 },
 "nbformat": 4,
 "nbformat_minor": 2
}
