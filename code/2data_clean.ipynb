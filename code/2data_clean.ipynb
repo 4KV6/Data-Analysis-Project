{
 "cells": [
  {
   "cell_type": "markdown",
   "metadata": {},
   "source": [
    "## 2. การทำความสะอาดข้อมูล หรือคัดกรองข้อมูล\n",
    "\n",
    "จากขั้นตอนที่แล้ว เริ่มจากดูชนิดของข้อมูลก่อน"
   ]
  },
  {
   "cell_type": "code",
   "execution_count": 38,
   "metadata": {},
   "outputs": [],
   "source": [
    "import pandas as pd"
   ]
  },
  {
   "cell_type": "code",
   "execution_count": 39,
   "metadata": {},
   "outputs": [],
   "source": [
    "data_hourly = pd.read_csv(\"../data/stations_hourly.csv\")"
   ]
  },
  {
   "cell_type": "code",
   "execution_count": 40,
   "metadata": {},
   "outputs": [],
   "source": [
    "describe_col = data_hourly.columns[:11] #column ที่ต้องการ\n",
    "data_hourly = data_hourly[describe_col]"
   ]
  },
  {
   "cell_type": "code",
   "execution_count": 41,
   "metadata": {},
   "outputs": [
    {
     "name": "stdout",
     "output_type": "stream",
     "text": [
      "<class 'pandas.core.frame.DataFrame'>\n",
      "RangeIndex: 5951903 entries, 0 to 5951902\n",
      "Data columns (total 11 columns):\n",
      " #   Column      Non-Null Count    Dtype  \n",
      "---  ------      --------------    -----  \n",
      " 0   datetime    5951903 non-null  object \n",
      " 1   station_id  5951903 non-null  int64  \n",
      " 2   PM2.5       4051918 non-null  float64\n",
      " 3   PM10        4637964 non-null  float64\n",
      " 4   NOx         3046803 non-null  float64\n",
      " 5   O3          4914802 non-null  float64\n",
      " 6   CO          4542033 non-null  float64\n",
      " 7   HR          3388063 non-null  float64\n",
      " 8   NO          3134901 non-null  float64\n",
      " 9   NO2         4344013 non-null  float64\n",
      " 10  TMP         3467518 non-null  float64\n",
      "dtypes: float64(9), int64(1), object(1)\n",
      "memory usage: 499.5+ MB\n"
     ]
    }
   ],
   "source": [
    "data_hourly.info(verbose=True, show_counts=True)"
   ]
  },
  {
   "cell_type": "markdown",
   "metadata": {},
   "source": [
    "สังเกต column ที่ datetime ไม่เป็น datetime type จำเป็นต้องแปลง Type  \n",
    "โดย มีข้อมูลใน stations_rsinaica.csv ที่เกี่ยวกับ Timezone"
   ]
  },
  {
   "cell_type": "code",
   "execution_count": 42,
   "metadata": {},
   "outputs": [],
   "source": [
    "station_data = pd.read_csv(\"../data/stations_rsinaica.csv\")"
   ]
  },
  {
   "cell_type": "markdown",
   "metadata": {},
   "source": [
    "ยกตัวอย่างข้อมูลสถานี id = 32"
   ]
  },
  {
   "cell_type": "code",
   "execution_count": 43,
   "metadata": {},
   "outputs": [
    {
     "data": {
      "text/plain": [
       "17    Tiempo del centro, UTC-6 (UTC-5 en verano)\n",
       "Name: timezone, dtype: object"
      ]
     },
     "execution_count": 43,
     "metadata": {},
     "output_type": "execute_result"
    }
   ],
   "source": [
    "station_data.loc[station_data[\"station_id\"] == 32][\"timezone\"]"
   ]
  },
  {
   "cell_type": "markdown",
   "metadata": {},
   "source": [
    "จะมีข้อมูล Timezone อยู่ ซึ่งสรุปได้ดังนี้ **(เทียบกับ pytz library)**  \n",
    "  \n",
    "> UTC-6 = centro  \n",
    "> : America/Mexico_City  \n",
    "> UTC-7 = pacífico, Sonora  \n",
    "> : America/Chihuahua  \n",
    "> UTC-8 = noroeste  \n",
    "> : America/Tijuana  \n",
    "  \n",
    "หมายเหตุ centro, pacífico, Sonora, noroeste เป็นคำ spain ที่บันทึกใน database column timezone  "
   ]
  },
  {
   "cell_type": "markdown",
   "metadata": {},
   "source": [
    "เริ่มการแปลง datetime (ทำเฉพาะ hourly)  \n",
    "(ตั้ง timezone และ แปลงเป็น UTC0)"
   ]
  },
  {
   "cell_type": "code",
   "execution_count": 44,
   "metadata": {},
   "outputs": [],
   "source": [
    "import numpy as np"
   ]
  },
  {
   "cell_type": "code",
   "execution_count": 45,
   "metadata": {},
   "outputs": [],
   "source": [
    "ListTimeZone = {\"centro\" : \"America/Mexico_City\", \"pacífico\" : \"America/Chihuahua\",\\\n",
    "                \"Sonora\" : \"America/Chihuahua\" ,\"noroeste\" : \"America/Tijuana\"}\n",
    "KeysTimeZone = list(ListTimeZone.keys())"
   ]
  },
  {
   "cell_type": "code",
   "execution_count": 46,
   "metadata": {},
   "outputs": [],
   "source": [
    "data_group = data_hourly.groupby(\"station_id\")\n",
    "key_group = data_group.groups"
   ]
  },
  {
   "cell_type": "code",
   "execution_count": 47,
   "metadata": {},
   "outputs": [],
   "source": [
    "for id in key_group:\n",
    "    station_group = data_group.get_group(id)\n",
    "    row_station = station_data.loc[ station_data[\"station_id\"] == id ]\n",
    "    str_timezone = row_station[\"timezone\"].values[0]\n",
    "    timezone = \"\"\n",
    "    \n",
    "    for timekey in KeysTimeZone:\n",
    "        if timekey in str_timezone:\n",
    "            timezone = ListTimeZone[timekey]\n",
    "            break\n",
    "    \n",
    "    infer_dst = np.array([False] * station_group.shape[0]) # from stackoverflow\n",
    "    \n",
    "    dateconv = pd.to_datetime(station_group[\"datetime\"])\n",
    "    dateconv = dateconv.dt.tz_localize(timezone, nonexistent='shift_forward', ambiguous=infer_dst)\n",
    "    dateconv = dateconv.dt.tz_convert(\"UTC\")\n",
    "    \n",
    "    data_hourly.loc[station_group.index, (\"datetime\")] = dateconv"
   ]
  },
  {
   "cell_type": "markdown",
   "metadata": {},
   "source": [
    "ผลลัพธ์หลังแปลง"
   ]
  },
  {
   "cell_type": "code",
   "execution_count": 48,
   "metadata": {},
   "outputs": [
    {
     "data": {
      "text/plain": [
       "0          2015-04-02 15:00:00+00:00\n",
       "1          2015-05-21 23:00:00+00:00\n",
       "2          2015-05-22 00:00:00+00:00\n",
       "3          2015-05-22 00:00:00+00:00\n",
       "4          2015-05-22 01:00:00+00:00\n",
       "                     ...            \n",
       "5951898    2022-01-01 01:00:00+00:00\n",
       "5951899    2022-01-01 02:00:00+00:00\n",
       "5951900    2022-01-01 03:00:00+00:00\n",
       "5951901    2022-01-01 04:00:00+00:00\n",
       "5951902    2022-01-01 05:00:00+00:00\n",
       "Name: datetime, Length: 5951903, dtype: object"
      ]
     },
     "execution_count": 48,
     "metadata": {},
     "output_type": "execute_result"
    }
   ],
   "source": [
    "data_hourly[\"datetime\"]"
   ]
  },
  {
   "cell_type": "markdown",
   "metadata": {},
   "source": [
    "ด้วยความที่มีข้อมูลบางส่วนเก็บก่อนปี 2010 (ข้อมูลที่ต้องการคือปี 2010-2021) จึงต้องตัดออก"
   ]
  },
  {
   "cell_type": "code",
   "execution_count": 49,
   "metadata": {},
   "outputs": [],
   "source": [
    "data_hourly.drop(data_hourly[data_hourly[\"datetime\"] < pd.Timestamp(year=2010, month=1, day=1, tz=\"UTC\")].index, inplace=True)"
   ]
  },
  {
   "cell_type": "code",
   "execution_count": 50,
   "metadata": {},
   "outputs": [],
   "source": [
    "data_hourly.index = range(0, data_hourly.shape[0])"
   ]
  },
  {
   "cell_type": "code",
   "execution_count": 51,
   "metadata": {},
   "outputs": [
    {
     "name": "stdout",
     "output_type": "stream",
     "text": [
      "<class 'pandas.core.frame.DataFrame'>\n",
      "RangeIndex: 5848182 entries, 0 to 5848181\n",
      "Data columns (total 11 columns):\n",
      " #   Column      Dtype  \n",
      "---  ------      -----  \n",
      " 0   datetime    object \n",
      " 1   station_id  int64  \n",
      " 2   PM2.5       float64\n",
      " 3   PM10        float64\n",
      " 4   NOx         float64\n",
      " 5   O3          float64\n",
      " 6   CO          float64\n",
      " 7   HR          float64\n",
      " 8   NO          float64\n",
      " 9   NO2         float64\n",
      " 10  TMP         float64\n",
      "dtypes: float64(9), int64(1), object(1)\n",
      "memory usage: 490.8+ MB\n"
     ]
    }
   ],
   "source": [
    "data_hourly.info()"
   ]
  },
  {
   "cell_type": "markdown",
   "metadata": {},
   "source": [
    "ต่อมา ตัดค่า outliner"
   ]
  },
  {
   "cell_type": "markdown",
   "metadata": {},
   "source": [
    "describe ก่อนจะตัดค่า"
   ]
  },
  {
   "cell_type": "code",
   "execution_count": 52,
   "metadata": {},
   "outputs": [
    {
     "data": {
      "text/html": [
       "<div>\n",
       "<style scoped>\n",
       "    .dataframe tbody tr th:only-of-type {\n",
       "        vertical-align: middle;\n",
       "    }\n",
       "\n",
       "    .dataframe tbody tr th {\n",
       "        vertical-align: top;\n",
       "    }\n",
       "\n",
       "    .dataframe thead th {\n",
       "        text-align: right;\n",
       "    }\n",
       "</style>\n",
       "<table border=\"1\" class=\"dataframe\">\n",
       "  <thead>\n",
       "    <tr style=\"text-align: right;\">\n",
       "      <th></th>\n",
       "      <th>station_id</th>\n",
       "      <th>PM2.5</th>\n",
       "      <th>PM10</th>\n",
       "      <th>NOx</th>\n",
       "      <th>O3</th>\n",
       "      <th>CO</th>\n",
       "      <th>HR</th>\n",
       "      <th>NO</th>\n",
       "      <th>NO2</th>\n",
       "      <th>TMP</th>\n",
       "    </tr>\n",
       "  </thead>\n",
       "  <tbody>\n",
       "    <tr>\n",
       "      <th>count</th>\n",
       "      <td>5.848182e+06</td>\n",
       "      <td>4.051918e+06</td>\n",
       "      <td>4.637964e+06</td>\n",
       "      <td>3.046803e+06</td>\n",
       "      <td>4.914802e+06</td>\n",
       "      <td>4.542033e+06</td>\n",
       "      <td>3.388063e+06</td>\n",
       "      <td>3.031180e+06</td>\n",
       "      <td>4.344013e+06</td>\n",
       "      <td>3.467518e+06</td>\n",
       "    </tr>\n",
       "    <tr>\n",
       "      <th>mean</th>\n",
       "      <td>1.643294e+02</td>\n",
       "      <td>1.575017e+33</td>\n",
       "      <td>7.423936e+32</td>\n",
       "      <td>3.370523e+00</td>\n",
       "      <td>2.235814e-01</td>\n",
       "      <td>4.293768e+00</td>\n",
       "      <td>2.091774e+02</td>\n",
       "      <td>3.266586e+00</td>\n",
       "      <td>2.309685e+00</td>\n",
       "      <td>2.084149e+01</td>\n",
       "    </tr>\n",
       "    <tr>\n",
       "      <th>std</th>\n",
       "      <td>8.867297e+01</td>\n",
       "      <td>8.354006e+35</td>\n",
       "      <td>4.069897e+35</td>\n",
       "      <td>3.181981e+03</td>\n",
       "      <td>1.525898e+02</td>\n",
       "      <td>4.671265e+02</td>\n",
       "      <td>2.299328e+05</td>\n",
       "      <td>3.190170e+03</td>\n",
       "      <td>2.664859e+03</td>\n",
       "      <td>6.214520e+02</td>\n",
       "    </tr>\n",
       "    <tr>\n",
       "      <th>min</th>\n",
       "      <td>3.200000e+01</td>\n",
       "      <td>0.000000e+00</td>\n",
       "      <td>0.000000e+00</td>\n",
       "      <td>0.000000e+00</td>\n",
       "      <td>0.000000e+00</td>\n",
       "      <td>0.000000e+00</td>\n",
       "      <td>0.000000e+00</td>\n",
       "      <td>0.000000e+00</td>\n",
       "      <td>0.000000e+00</td>\n",
       "      <td>0.000000e+00</td>\n",
       "    </tr>\n",
       "    <tr>\n",
       "      <th>25%</th>\n",
       "      <td>1.020000e+02</td>\n",
       "      <td>1.100000e+01</td>\n",
       "      <td>2.536100e+01</td>\n",
       "      <td>1.141000e-02</td>\n",
       "      <td>8.000000e-03</td>\n",
       "      <td>4.300000e-01</td>\n",
       "      <td>4.156241e+01</td>\n",
       "      <td>3.000000e-03</td>\n",
       "      <td>8.000000e-03</td>\n",
       "      <td>1.210000e+01</td>\n",
       "    </tr>\n",
       "    <tr>\n",
       "      <th>50%</th>\n",
       "      <td>1.370000e+02</td>\n",
       "      <td>1.800000e+01</td>\n",
       "      <td>4.108353e+01</td>\n",
       "      <td>2.200000e-02</td>\n",
       "      <td>1.970710e-02</td>\n",
       "      <td>7.200000e-01</td>\n",
       "      <td>6.297000e+01</td>\n",
       "      <td>7.000000e-03</td>\n",
       "      <td>1.520973e-02</td>\n",
       "      <td>1.763626e+01</td>\n",
       "    </tr>\n",
       "    <tr>\n",
       "      <th>75%</th>\n",
       "      <td>2.450000e+02</td>\n",
       "      <td>2.900000e+01</td>\n",
       "      <td>6.500000e+01</td>\n",
       "      <td>4.276215e-02</td>\n",
       "      <td>3.579000e-02</td>\n",
       "      <td>1.270000e+00</td>\n",
       "      <td>7.900000e+01</td>\n",
       "      <td>2.090000e-02</td>\n",
       "      <td>2.500000e-02</td>\n",
       "      <td>2.309000e+01</td>\n",
       "    </tr>\n",
       "    <tr>\n",
       "      <th>max</th>\n",
       "      <td>4.260000e+02</td>\n",
       "      <td>4.924800e+38</td>\n",
       "      <td>2.640400e+38</td>\n",
       "      <td>3.422585e+06</td>\n",
       "      <td>2.023916e+05</td>\n",
       "      <td>6.947900e+05</td>\n",
       "      <td>4.166700e+08</td>\n",
       "      <td>3.422585e+06</td>\n",
       "      <td>3.422585e+06</td>\n",
       "      <td>4.208200e+05</td>\n",
       "    </tr>\n",
       "  </tbody>\n",
       "</table>\n",
       "</div>"
      ],
      "text/plain": [
       "         station_id         PM2.5          PM10           NOx            O3  \\\n",
       "count  5.848182e+06  4.051918e+06  4.637964e+06  3.046803e+06  4.914802e+06   \n",
       "mean   1.643294e+02  1.575017e+33  7.423936e+32  3.370523e+00  2.235814e-01   \n",
       "std    8.867297e+01  8.354006e+35  4.069897e+35  3.181981e+03  1.525898e+02   \n",
       "min    3.200000e+01  0.000000e+00  0.000000e+00  0.000000e+00  0.000000e+00   \n",
       "25%    1.020000e+02  1.100000e+01  2.536100e+01  1.141000e-02  8.000000e-03   \n",
       "50%    1.370000e+02  1.800000e+01  4.108353e+01  2.200000e-02  1.970710e-02   \n",
       "75%    2.450000e+02  2.900000e+01  6.500000e+01  4.276215e-02  3.579000e-02   \n",
       "max    4.260000e+02  4.924800e+38  2.640400e+38  3.422585e+06  2.023916e+05   \n",
       "\n",
       "                 CO            HR            NO           NO2           TMP  \n",
       "count  4.542033e+06  3.388063e+06  3.031180e+06  4.344013e+06  3.467518e+06  \n",
       "mean   4.293768e+00  2.091774e+02  3.266586e+00  2.309685e+00  2.084149e+01  \n",
       "std    4.671265e+02  2.299328e+05  3.190170e+03  2.664859e+03  6.214520e+02  \n",
       "min    0.000000e+00  0.000000e+00  0.000000e+00  0.000000e+00  0.000000e+00  \n",
       "25%    4.300000e-01  4.156241e+01  3.000000e-03  8.000000e-03  1.210000e+01  \n",
       "50%    7.200000e-01  6.297000e+01  7.000000e-03  1.520973e-02  1.763626e+01  \n",
       "75%    1.270000e+00  7.900000e+01  2.090000e-02  2.500000e-02  2.309000e+01  \n",
       "max    6.947900e+05  4.166700e+08  3.422585e+06  3.422585e+06  4.208200e+05  "
      ]
     },
     "execution_count": 52,
     "metadata": {},
     "output_type": "execute_result"
    }
   ],
   "source": [
    "data_hourly.describe()"
   ]
  },
  {
   "cell_type": "markdown",
   "metadata": {},
   "source": [
    "จำนวนช่องข้อมูลที่ว่างก่อนตัดค่า"
   ]
  },
  {
   "cell_type": "code",
   "execution_count": 53,
   "metadata": {},
   "outputs": [
    {
     "data": {
      "text/plain": [
       "datetime            0\n",
       "station_id          0\n",
       "PM2.5         1796264\n",
       "PM10          1210218\n",
       "NOx           2801379\n",
       "O3             933380\n",
       "CO            1306149\n",
       "HR            2460119\n",
       "NO            2817002\n",
       "NO2           1504169\n",
       "TMP           2380664\n",
       "dtype: int64"
      ]
     },
     "execution_count": 53,
     "metadata": {},
     "output_type": "execute_result"
    }
   ],
   "source": [
    "data_hourly.isna().sum()"
   ]
  },
  {
   "cell_type": "markdown",
   "metadata": {},
   "source": [
    "หาจุดตัดค่าเกินเกณฑ์ โดยใช้ เปอร์เซ็นไทล์ที่ 98.5 และ 5"
   ]
  },
  {
   "cell_type": "code",
   "execution_count": 54,
   "metadata": {},
   "outputs": [],
   "source": [
    "high_all_cut = data_hourly.quantile(q=0.985, numeric_only=True)\n",
    "low_all_cut = data_hourly.quantile(q=0.05, numeric_only=True)"
   ]
  },
  {
   "cell_type": "code",
   "execution_count": 55,
   "metadata": {},
   "outputs": [],
   "source": [
    "for col in describe_col[2:]:\n",
    "    data_cut_all = data_hourly.loc[(data_hourly[col] > low_all_cut[col]) & (data_hourly[col] < high_all_cut[col])]\n",
    "    data_hourly.loc[:, (col)] = [np.nan] * data_hourly.shape[0]\n",
    "    data_hourly.loc[data_cut_all.index, (col)] = data_cut_all"
   ]
  },
  {
   "cell_type": "markdown",
   "metadata": {},
   "source": [
    "describe และ จำนวนช่องว่าง หลังตัดค่าเกินเกณฑ์"
   ]
  },
  {
   "cell_type": "code",
   "execution_count": 56,
   "metadata": {},
   "outputs": [
    {
     "data": {
      "text/html": [
       "<div>\n",
       "<style scoped>\n",
       "    .dataframe tbody tr th:only-of-type {\n",
       "        vertical-align: middle;\n",
       "    }\n",
       "\n",
       "    .dataframe tbody tr th {\n",
       "        vertical-align: top;\n",
       "    }\n",
       "\n",
       "    .dataframe thead th {\n",
       "        text-align: right;\n",
       "    }\n",
       "</style>\n",
       "<table border=\"1\" class=\"dataframe\">\n",
       "  <thead>\n",
       "    <tr style=\"text-align: right;\">\n",
       "      <th></th>\n",
       "      <th>station_id</th>\n",
       "      <th>PM2.5</th>\n",
       "      <th>PM10</th>\n",
       "      <th>NOx</th>\n",
       "      <th>O3</th>\n",
       "      <th>CO</th>\n",
       "      <th>HR</th>\n",
       "      <th>NO</th>\n",
       "      <th>NO2</th>\n",
       "      <th>TMP</th>\n",
       "    </tr>\n",
       "  </thead>\n",
       "  <tbody>\n",
       "    <tr>\n",
       "      <th>count</th>\n",
       "      <td>5.848182e+06</td>\n",
       "      <td>3.787115e+06</td>\n",
       "      <td>4.336441e+06</td>\n",
       "      <td>2.846175e+06</td>\n",
       "      <td>4.533204e+06</td>\n",
       "      <td>4.244356e+06</td>\n",
       "      <td>3.163200e+06</td>\n",
       "      <td>2.832746e+06</td>\n",
       "      <td>4.059010e+06</td>\n",
       "      <td>3.239513e+06</td>\n",
       "    </tr>\n",
       "    <tr>\n",
       "      <th>mean</th>\n",
       "      <td>1.643294e+02</td>\n",
       "      <td>2.413626e+01</td>\n",
       "      <td>5.299561e+01</td>\n",
       "      <td>3.442132e-02</td>\n",
       "      <td>2.534591e-02</td>\n",
       "      <td>9.888091e-01</td>\n",
       "      <td>6.147723e+01</td>\n",
       "      <td>1.836882e-02</td>\n",
       "      <td>1.856115e-02</td>\n",
       "      <td>1.819221e+01</td>\n",
       "    </tr>\n",
       "    <tr>\n",
       "      <th>std</th>\n",
       "      <td>8.867297e+01</td>\n",
       "      <td>2.503097e+01</td>\n",
       "      <td>3.988911e+01</td>\n",
       "      <td>3.400579e-02</td>\n",
       "      <td>1.926691e-02</td>\n",
       "      <td>7.311852e-01</td>\n",
       "      <td>2.108099e+01</td>\n",
       "      <td>2.680735e-02</td>\n",
       "      <td>1.211658e-02</td>\n",
       "      <td>6.524575e+00</td>\n",
       "    </tr>\n",
       "    <tr>\n",
       "      <th>min</th>\n",
       "      <td>3.200000e+01</td>\n",
       "      <td>3.012900e+00</td>\n",
       "      <td>9.400056e+00</td>\n",
       "      <td>3.200100e-03</td>\n",
       "      <td>2.000081e-03</td>\n",
       "      <td>1.560028e-01</td>\n",
       "      <td>1.663104e+01</td>\n",
       "      <td>5.000100e-04</td>\n",
       "      <td>2.100028e-03</td>\n",
       "      <td>6.070100e+00</td>\n",
       "    </tr>\n",
       "    <tr>\n",
       "      <th>25%</th>\n",
       "      <td>1.020000e+02</td>\n",
       "      <td>1.200000e+01</td>\n",
       "      <td>2.783593e+01</td>\n",
       "      <td>1.249000e-02</td>\n",
       "      <td>9.246800e-03</td>\n",
       "      <td>4.850000e-01</td>\n",
       "      <td>4.488734e+01</td>\n",
       "      <td>3.400000e-03</td>\n",
       "      <td>9.000000e-03</td>\n",
       "      <td>1.283000e+01</td>\n",
       "    </tr>\n",
       "    <tr>\n",
       "      <th>50%</th>\n",
       "      <td>1.370000e+02</td>\n",
       "      <td>1.900000e+01</td>\n",
       "      <td>4.300000e+01</td>\n",
       "      <td>2.300000e-02</td>\n",
       "      <td>2.100000e-02</td>\n",
       "      <td>7.550000e-01</td>\n",
       "      <td>6.400000e+01</td>\n",
       "      <td>7.484900e-03</td>\n",
       "      <td>1.600000e-02</td>\n",
       "      <td>1.800000e+01</td>\n",
       "    </tr>\n",
       "    <tr>\n",
       "      <th>75%</th>\n",
       "      <td>2.450000e+02</td>\n",
       "      <td>2.900000e+01</td>\n",
       "      <td>6.500000e+01</td>\n",
       "      <td>4.300000e-02</td>\n",
       "      <td>3.600000e-02</td>\n",
       "      <td>1.280000e+00</td>\n",
       "      <td>7.900000e+01</td>\n",
       "      <td>2.100000e-02</td>\n",
       "      <td>2.507895e-02</td>\n",
       "      <td>2.310000e+01</td>\n",
       "    </tr>\n",
       "    <tr>\n",
       "      <th>max</th>\n",
       "      <td>4.260000e+02</td>\n",
       "      <td>3.018800e+02</td>\n",
       "      <td>3.270700e+02</td>\n",
       "      <td>2.069858e-01</td>\n",
       "      <td>9.399300e-02</td>\n",
       "      <td>4.166400e+00</td>\n",
       "      <td>9.999999e+01</td>\n",
       "      <td>1.729900e-01</td>\n",
       "      <td>6.339660e-02</td>\n",
       "      <td>3.361900e+01</td>\n",
       "    </tr>\n",
       "  </tbody>\n",
       "</table>\n",
       "</div>"
      ],
      "text/plain": [
       "         station_id         PM2.5          PM10           NOx            O3  \\\n",
       "count  5.848182e+06  3.787115e+06  4.336441e+06  2.846175e+06  4.533204e+06   \n",
       "mean   1.643294e+02  2.413626e+01  5.299561e+01  3.442132e-02  2.534591e-02   \n",
       "std    8.867297e+01  2.503097e+01  3.988911e+01  3.400579e-02  1.926691e-02   \n",
       "min    3.200000e+01  3.012900e+00  9.400056e+00  3.200100e-03  2.000081e-03   \n",
       "25%    1.020000e+02  1.200000e+01  2.783593e+01  1.249000e-02  9.246800e-03   \n",
       "50%    1.370000e+02  1.900000e+01  4.300000e+01  2.300000e-02  2.100000e-02   \n",
       "75%    2.450000e+02  2.900000e+01  6.500000e+01  4.300000e-02  3.600000e-02   \n",
       "max    4.260000e+02  3.018800e+02  3.270700e+02  2.069858e-01  9.399300e-02   \n",
       "\n",
       "                 CO            HR            NO           NO2           TMP  \n",
       "count  4.244356e+06  3.163200e+06  2.832746e+06  4.059010e+06  3.239513e+06  \n",
       "mean   9.888091e-01  6.147723e+01  1.836882e-02  1.856115e-02  1.819221e+01  \n",
       "std    7.311852e-01  2.108099e+01  2.680735e-02  1.211658e-02  6.524575e+00  \n",
       "min    1.560028e-01  1.663104e+01  5.000100e-04  2.100028e-03  6.070100e+00  \n",
       "25%    4.850000e-01  4.488734e+01  3.400000e-03  9.000000e-03  1.283000e+01  \n",
       "50%    7.550000e-01  6.400000e+01  7.484900e-03  1.600000e-02  1.800000e+01  \n",
       "75%    1.280000e+00  7.900000e+01  2.100000e-02  2.507895e-02  2.310000e+01  \n",
       "max    4.166400e+00  9.999999e+01  1.729900e-01  6.339660e-02  3.361900e+01  "
      ]
     },
     "execution_count": 56,
     "metadata": {},
     "output_type": "execute_result"
    }
   ],
   "source": [
    "data_hourly.describe()"
   ]
  },
  {
   "cell_type": "code",
   "execution_count": 57,
   "metadata": {},
   "outputs": [
    {
     "data": {
      "text/plain": [
       "datetime            0\n",
       "station_id          0\n",
       "PM2.5         2061067\n",
       "PM10          1511741\n",
       "NOx           3002007\n",
       "O3            1314978\n",
       "CO            1603826\n",
       "HR            2684982\n",
       "NO            3015436\n",
       "NO2           1789172\n",
       "TMP           2608669\n",
       "dtype: int64"
      ]
     },
     "execution_count": 57,
     "metadata": {},
     "output_type": "execute_result"
    }
   ],
   "source": [
    "data_hourly.isna().sum()"
   ]
  },
  {
   "cell_type": "markdown",
   "metadata": {},
   "source": [
    "ต่อมา เติมค่าที่ว่างด้วยค่าเฉลี่ย"
   ]
  },
  {
   "cell_type": "markdown",
   "metadata": {},
   "source": [
    "ฟังก์ชันที่ใช้"
   ]
  },
  {
   "cell_type": "code",
   "execution_count": 58,
   "metadata": {},
   "outputs": [],
   "source": [
    "def fillna_avg(freq_time, data_input):\n",
    "    data_group_date = data_input.groupby([pd.Grouper(freq=freq_time, key=\"datetime\"), \"station_id\"], dropna=True)\n",
    "    mean_all = data_group_date.mean()\n",
    "    date_key = list(data_group_date.groups.keys())\n",
    "    \n",
    "    for date_id in date_key:\n",
    "        try:\n",
    "            data_select = data_group_date.get_group(date_id)\n",
    "            avg = mean_all.loc[date_id]\n",
    "            #print(avg)\n",
    "            for col in describe_col[2:]:\n",
    "                avg_value = avg[col]\n",
    "                if str(avg_value) != \"nan\":\n",
    "                    data_input.loc[data_select.index, (col)] = data_input.loc[data_select.index, (col)].fillna(avg_value)\n",
    "        except KeyError:\n",
    "            continue\n",
    "    \n",
    "    return data_input"
   ]
  },
  {
   "cell_type": "markdown",
   "metadata": {},
   "source": [
    "ช่องว่างข้อมูลก่อนเติมค่า"
   ]
  },
  {
   "cell_type": "code",
   "execution_count": 59,
   "metadata": {},
   "outputs": [
    {
     "data": {
      "text/plain": [
       "datetime            0\n",
       "station_id          0\n",
       "PM2.5         2061067\n",
       "PM10          1511741\n",
       "NOx           3002007\n",
       "O3            1314978\n",
       "CO            1603826\n",
       "HR            2684982\n",
       "NO            3015436\n",
       "NO2           1789172\n",
       "TMP           2608669\n",
       "dtype: int64"
      ]
     },
     "execution_count": 59,
     "metadata": {},
     "output_type": "execute_result"
    }
   ],
   "source": [
    "data_hourly.isna().sum()"
   ]
  },
  {
   "cell_type": "markdown",
   "metadata": {},
   "source": [
    "หลังจากเติม โดยใช้ค่าเฉลี่ยรายวัน"
   ]
  },
  {
   "cell_type": "code",
   "execution_count": 60,
   "metadata": {},
   "outputs": [
    {
     "data": {
      "text/plain": [
       "datetime            0\n",
       "station_id          0\n",
       "PM2.5         2050486\n",
       "PM10          1489855\n",
       "NOx           2990637\n",
       "O3            1310018\n",
       "CO            1579404\n",
       "HR            2678057\n",
       "NO            3003229\n",
       "NO2           1762222\n",
       "TMP           2508589\n",
       "dtype: int64"
      ]
     },
     "execution_count": 60,
     "metadata": {},
     "output_type": "execute_result"
    }
   ],
   "source": [
    "data_hourly = fillna_avg(\"1D\", data_hourly)\n",
    "data_hourly.isna().sum()"
   ]
  },
  {
   "cell_type": "markdown",
   "metadata": {},
   "source": [
    "หลังจากเติม โดยใช้ค่าเฉลี่ยรายสัปดาห์"
   ]
  },
  {
   "cell_type": "code",
   "execution_count": 61,
   "metadata": {},
   "outputs": [
    {
     "data": {
      "text/plain": [
       "datetime            0\n",
       "station_id          0\n",
       "PM2.5         2048050\n",
       "PM10          1488546\n",
       "NOx           2988751\n",
       "O3            1308111\n",
       "CO            1577544\n",
       "HR            2676520\n",
       "NO            3001259\n",
       "NO2           1759160\n",
       "TMP           2507648\n",
       "dtype: int64"
      ]
     },
     "execution_count": 61,
     "metadata": {},
     "output_type": "execute_result"
    }
   ],
   "source": [
    "data_hourly = fillna_avg(\"7D\", data_hourly)\n",
    "data_hourly.isna().sum()"
   ]
  },
  {
   "cell_type": "markdown",
   "metadata": {},
   "source": [
    "หลังจากเติม โดยใช้ค่าเฉลี่ยราย 2 สัปดาห์"
   ]
  },
  {
   "cell_type": "code",
   "execution_count": 62,
   "metadata": {},
   "outputs": [
    {
     "data": {
      "text/plain": [
       "datetime            0\n",
       "station_id          0\n",
       "PM2.5         2046117\n",
       "PM10          1487574\n",
       "NOx           2986345\n",
       "O3            1306370\n",
       "CO            1575653\n",
       "HR            2675118\n",
       "NO            2999195\n",
       "NO2           1757102\n",
       "TMP           2506661\n",
       "dtype: int64"
      ]
     },
     "execution_count": 62,
     "metadata": {},
     "output_type": "execute_result"
    }
   ],
   "source": [
    "data_hourly = fillna_avg(\"14D\", data_hourly)\n",
    "data_hourly.isna().sum()"
   ]
  },
  {
   "cell_type": "markdown",
   "metadata": {},
   "source": [
    "หลังจากเติม โดยใช้ค่าเฉลี่ยรายเดือน"
   ]
  },
  {
   "cell_type": "code",
   "execution_count": 63,
   "metadata": {},
   "outputs": [
    {
     "data": {
      "text/plain": [
       "datetime            0\n",
       "station_id          0\n",
       "PM2.5         2038770\n",
       "PM10          1484437\n",
       "NOx           2982835\n",
       "O3            1303912\n",
       "CO            1569249\n",
       "HR            2671672\n",
       "NO            2993870\n",
       "NO2           1752825\n",
       "TMP           2503766\n",
       "dtype: int64"
      ]
     },
     "execution_count": 63,
     "metadata": {},
     "output_type": "execute_result"
    }
   ],
   "source": [
    "data_hourly = fillna_avg(\"1M\", data_hourly)\n",
    "data_hourly.isna().sum()"
   ]
  },
  {
   "cell_type": "markdown",
   "metadata": {},
   "source": [
    "หลังจากเติม โดยใช้ค่าเฉลี่ยราย 3 เดือน"
   ]
  },
  {
   "cell_type": "code",
   "execution_count": 64,
   "metadata": {},
   "outputs": [
    {
     "data": {
      "text/plain": [
       "datetime            0\n",
       "station_id          0\n",
       "PM2.5         2016927\n",
       "PM10          1474678\n",
       "NOx           2970012\n",
       "O3            1292862\n",
       "CO            1555640\n",
       "HR            2664889\n",
       "NO            2975286\n",
       "NO2           1738261\n",
       "TMP           2495873\n",
       "dtype: int64"
      ]
     },
     "execution_count": 64,
     "metadata": {},
     "output_type": "execute_result"
    }
   ],
   "source": [
    "data_hourly = fillna_avg(\"3M\", data_hourly)\n",
    "data_hourly.isna().sum()"
   ]
  },
  {
   "cell_type": "markdown",
   "metadata": {},
   "source": [
    "หลังจากเติม โดยใช้ค่าเฉลี่ยราย 6 เดือน"
   ]
  },
  {
   "cell_type": "code",
   "execution_count": 65,
   "metadata": {},
   "outputs": [
    {
     "data": {
      "text/plain": [
       "datetime            0\n",
       "station_id          0\n",
       "PM2.5         1981263\n",
       "PM10          1455734\n",
       "NOx           2946201\n",
       "O3            1274987\n",
       "CO            1528118\n",
       "HR            2642102\n",
       "NO            2938613\n",
       "NO2           1713126\n",
       "TMP           2474257\n",
       "dtype: int64"
      ]
     },
     "execution_count": 65,
     "metadata": {},
     "output_type": "execute_result"
    }
   ],
   "source": [
    "data_hourly = fillna_avg(\"6M\", data_hourly)\n",
    "data_hourly.isna().sum()"
   ]
  },
  {
   "cell_type": "markdown",
   "metadata": {},
   "source": [
    "หลังจากเติม โดยใช้ค่าเฉลี่ยรายปี"
   ]
  },
  {
   "cell_type": "code",
   "execution_count": 66,
   "metadata": {},
   "outputs": [
    {
     "data": {
      "text/plain": [
       "datetime            0\n",
       "station_id          0\n",
       "PM2.5         1914244\n",
       "PM10          1369826\n",
       "NOx           2884149\n",
       "O3            1200376\n",
       "CO            1471581\n",
       "HR            2597930\n",
       "NO            2845786\n",
       "NO2           1657861\n",
       "TMP           2435255\n",
       "dtype: int64"
      ]
     },
     "execution_count": 66,
     "metadata": {},
     "output_type": "execute_result"
    }
   ],
   "source": [
    "data_hourly = fillna_avg(\"1Y\", data_hourly)\n",
    "data_hourly.isna().sum()"
   ]
  },
  {
   "cell_type": "markdown",
   "metadata": {},
   "source": [
    "หลังจากเติม โดยใช้ค่าเฉลี่ยราย 3 ปี"
   ]
  },
  {
   "cell_type": "code",
   "execution_count": 67,
   "metadata": {},
   "outputs": [
    {
     "data": {
      "text/plain": [
       "datetime            0\n",
       "station_id          0\n",
       "PM2.5         1573434\n",
       "PM10          1219012\n",
       "NOx           2584692\n",
       "O3             982316\n",
       "CO            1219207\n",
       "HR            2415329\n",
       "NO            2381526\n",
       "NO2           1374978\n",
       "TMP           2226485\n",
       "dtype: int64"
      ]
     },
     "execution_count": 67,
     "metadata": {},
     "output_type": "execute_result"
    }
   ],
   "source": [
    "data_hourly = fillna_avg(\"3Y\", data_hourly)\n",
    "data_hourly.isna().sum()"
   ]
  },
  {
   "cell_type": "markdown",
   "metadata": {},
   "source": [
    "หลังจากเติม โดยใช้ค่าเฉลี่ยราย 6 ปี"
   ]
  },
  {
   "cell_type": "code",
   "execution_count": 68,
   "metadata": {},
   "outputs": [
    {
     "data": {
      "text/plain": [
       "datetime            0\n",
       "station_id          0\n",
       "PM2.5         1112282\n",
       "PM10           964166\n",
       "NOx           1927146\n",
       "O3             710449\n",
       "CO             873012\n",
       "HR            1637981\n",
       "NO            1776954\n",
       "NO2            974572\n",
       "TMP           1547230\n",
       "dtype: int64"
      ]
     },
     "execution_count": 68,
     "metadata": {},
     "output_type": "execute_result"
    }
   ],
   "source": [
    "data_hourly = fillna_avg(\"6Y\", data_hourly)\n",
    "data_hourly.isna().sum()"
   ]
  },
  {
   "cell_type": "markdown",
   "metadata": {},
   "source": [
    "หลังจากเติม โดยใช้ค่าเฉลี่ยราย 11 ปี (แทบทั้งหมด)"
   ]
  },
  {
   "cell_type": "code",
   "execution_count": 69,
   "metadata": {},
   "outputs": [
    {
     "data": {
      "text/plain": [
       "datetime           0\n",
       "station_id         0\n",
       "PM2.5         251524\n",
       "PM10          577548\n",
       "NOx           595181\n",
       "O3            294199\n",
       "CO            394821\n",
       "HR            602107\n",
       "NO            570415\n",
       "NO2           399948\n",
       "TMP           558123\n",
       "dtype: int64"
      ]
     },
     "execution_count": 69,
     "metadata": {},
     "output_type": "execute_result"
    }
   ],
   "source": [
    "data_hourly = fillna_avg(\"11Y\", data_hourly)\n",
    "data_hourly.isna().sum()"
   ]
  },
  {
   "cell_type": "markdown",
   "metadata": {},
   "source": [
    "เนื่องจากยังเหลือช่องว่างอยู่ จึงเติมด้วยค่าเฉลี่ยของทั้งหมด"
   ]
  },
  {
   "cell_type": "code",
   "execution_count": 70,
   "metadata": {},
   "outputs": [],
   "source": [
    "mean_all = data_hourly[describe_col[2:]].mean()\n",
    "\n",
    "for col in describe_col[2:]:\n",
    "    data_hourly.loc[:, (col)].fillna(mean_all[col], inplace=True)"
   ]
  },
  {
   "cell_type": "code",
   "execution_count": 71,
   "metadata": {},
   "outputs": [
    {
     "data": {
      "text/plain": [
       "datetime      0\n",
       "station_id    0\n",
       "PM2.5         0\n",
       "PM10          0\n",
       "NOx           0\n",
       "O3            0\n",
       "CO            0\n",
       "HR            0\n",
       "NO            0\n",
       "NO2           0\n",
       "TMP           0\n",
       "dtype: int64"
      ]
     },
     "execution_count": 71,
     "metadata": {},
     "output_type": "execute_result"
    }
   ],
   "source": [
    "data_hourly.isna().sum()"
   ]
  },
  {
   "cell_type": "code",
   "execution_count": 72,
   "metadata": {},
   "outputs": [
    {
     "data": {
      "text/html": [
       "<div>\n",
       "<style scoped>\n",
       "    .dataframe tbody tr th:only-of-type {\n",
       "        vertical-align: middle;\n",
       "    }\n",
       "\n",
       "    .dataframe tbody tr th {\n",
       "        vertical-align: top;\n",
       "    }\n",
       "\n",
       "    .dataframe thead th {\n",
       "        text-align: right;\n",
       "    }\n",
       "</style>\n",
       "<table border=\"1\" class=\"dataframe\">\n",
       "  <thead>\n",
       "    <tr style=\"text-align: right;\">\n",
       "      <th></th>\n",
       "      <th>station_id</th>\n",
       "      <th>PM2.5</th>\n",
       "      <th>PM10</th>\n",
       "      <th>NOx</th>\n",
       "      <th>O3</th>\n",
       "      <th>CO</th>\n",
       "      <th>HR</th>\n",
       "      <th>NO</th>\n",
       "      <th>NO2</th>\n",
       "      <th>TMP</th>\n",
       "    </tr>\n",
       "  </thead>\n",
       "  <tbody>\n",
       "    <tr>\n",
       "      <th>count</th>\n",
       "      <td>5.848182e+06</td>\n",
       "      <td>5.848182e+06</td>\n",
       "      <td>5.848182e+06</td>\n",
       "      <td>5.848182e+06</td>\n",
       "      <td>5.848182e+06</td>\n",
       "      <td>5.848182e+06</td>\n",
       "      <td>5.848182e+06</td>\n",
       "      <td>5.848182e+06</td>\n",
       "      <td>5.848182e+06</td>\n",
       "      <td>5.848182e+06</td>\n",
       "    </tr>\n",
       "    <tr>\n",
       "      <th>mean</th>\n",
       "      <td>1.643294e+02</td>\n",
       "      <td>2.441384e+01</td>\n",
       "      <td>5.270074e+01</td>\n",
       "      <td>3.431426e-02</td>\n",
       "      <td>2.547988e-02</td>\n",
       "      <td>9.878910e-01</td>\n",
       "      <td>6.036240e+01</td>\n",
       "      <td>1.781668e-02</td>\n",
       "      <td>1.777698e-02</td>\n",
       "      <td>1.839740e+01</td>\n",
       "    </tr>\n",
       "    <tr>\n",
       "      <th>std</th>\n",
       "      <td>8.867297e+01</td>\n",
       "      <td>2.157374e+01</td>\n",
       "      <td>3.676655e+01</td>\n",
       "      <td>2.557446e-02</td>\n",
       "      <td>1.711418e-02</td>\n",
       "      <td>6.587089e-01</td>\n",
       "      <td>1.685173e+01</td>\n",
       "      <td>1.962701e-02</td>\n",
       "      <td>1.073153e-02</td>\n",
       "      <td>5.372382e+00</td>\n",
       "    </tr>\n",
       "    <tr>\n",
       "      <th>min</th>\n",
       "      <td>3.200000e+01</td>\n",
       "      <td>3.012900e+00</td>\n",
       "      <td>9.400056e+00</td>\n",
       "      <td>3.200100e-03</td>\n",
       "      <td>2.000081e-03</td>\n",
       "      <td>1.560028e-01</td>\n",
       "      <td>1.663104e+01</td>\n",
       "      <td>5.000100e-04</td>\n",
       "      <td>2.100028e-03</td>\n",
       "      <td>6.070100e+00</td>\n",
       "    </tr>\n",
       "    <tr>\n",
       "      <th>25%</th>\n",
       "      <td>1.020000e+02</td>\n",
       "      <td>1.450119e+01</td>\n",
       "      <td>3.105655e+01</td>\n",
       "      <td>1.864065e-02</td>\n",
       "      <td>1.200000e-02</td>\n",
       "      <td>5.350000e-01</td>\n",
       "      <td>5.154000e+01</td>\n",
       "      <td>6.000000e-03</td>\n",
       "      <td>1.000000e-02</td>\n",
       "      <td>1.529816e+01</td>\n",
       "    </tr>\n",
       "    <tr>\n",
       "      <th>50%</th>\n",
       "      <td>1.370000e+02</td>\n",
       "      <td>2.110023e+01</td>\n",
       "      <td>4.790000e+01</td>\n",
       "      <td>3.036875e-02</td>\n",
       "      <td>2.431242e-02</td>\n",
       "      <td>8.200000e-01</td>\n",
       "      <td>6.036240e+01</td>\n",
       "      <td>1.339321e-02</td>\n",
       "      <td>1.620000e-02</td>\n",
       "      <td>1.839740e+01</td>\n",
       "    </tr>\n",
       "    <tr>\n",
       "      <th>75%</th>\n",
       "      <td>2.450000e+02</td>\n",
       "      <td>2.723187e+01</td>\n",
       "      <td>5.900000e+01</td>\n",
       "      <td>4.083036e-02</td>\n",
       "      <td>3.200000e-02</td>\n",
       "      <td>1.202126e+00</td>\n",
       "      <td>7.000000e+01</td>\n",
       "      <td>2.163440e-02</td>\n",
       "      <td>2.300000e-02</td>\n",
       "      <td>2.188456e+01</td>\n",
       "    </tr>\n",
       "    <tr>\n",
       "      <th>max</th>\n",
       "      <td>4.260000e+02</td>\n",
       "      <td>3.018800e+02</td>\n",
       "      <td>3.270700e+02</td>\n",
       "      <td>2.069858e-01</td>\n",
       "      <td>9.399300e-02</td>\n",
       "      <td>4.166400e+00</td>\n",
       "      <td>9.999999e+01</td>\n",
       "      <td>1.729900e-01</td>\n",
       "      <td>6.339660e-02</td>\n",
       "      <td>3.361900e+01</td>\n",
       "    </tr>\n",
       "  </tbody>\n",
       "</table>\n",
       "</div>"
      ],
      "text/plain": [
       "         station_id         PM2.5          PM10           NOx            O3  \\\n",
       "count  5.848182e+06  5.848182e+06  5.848182e+06  5.848182e+06  5.848182e+06   \n",
       "mean   1.643294e+02  2.441384e+01  5.270074e+01  3.431426e-02  2.547988e-02   \n",
       "std    8.867297e+01  2.157374e+01  3.676655e+01  2.557446e-02  1.711418e-02   \n",
       "min    3.200000e+01  3.012900e+00  9.400056e+00  3.200100e-03  2.000081e-03   \n",
       "25%    1.020000e+02  1.450119e+01  3.105655e+01  1.864065e-02  1.200000e-02   \n",
       "50%    1.370000e+02  2.110023e+01  4.790000e+01  3.036875e-02  2.431242e-02   \n",
       "75%    2.450000e+02  2.723187e+01  5.900000e+01  4.083036e-02  3.200000e-02   \n",
       "max    4.260000e+02  3.018800e+02  3.270700e+02  2.069858e-01  9.399300e-02   \n",
       "\n",
       "                 CO            HR            NO           NO2           TMP  \n",
       "count  5.848182e+06  5.848182e+06  5.848182e+06  5.848182e+06  5.848182e+06  \n",
       "mean   9.878910e-01  6.036240e+01  1.781668e-02  1.777698e-02  1.839740e+01  \n",
       "std    6.587089e-01  1.685173e+01  1.962701e-02  1.073153e-02  5.372382e+00  \n",
       "min    1.560028e-01  1.663104e+01  5.000100e-04  2.100028e-03  6.070100e+00  \n",
       "25%    5.350000e-01  5.154000e+01  6.000000e-03  1.000000e-02  1.529816e+01  \n",
       "50%    8.200000e-01  6.036240e+01  1.339321e-02  1.620000e-02  1.839740e+01  \n",
       "75%    1.202126e+00  7.000000e+01  2.163440e-02  2.300000e-02  2.188456e+01  \n",
       "max    4.166400e+00  9.999999e+01  1.729900e-01  6.339660e-02  3.361900e+01  "
      ]
     },
     "execution_count": 72,
     "metadata": {},
     "output_type": "execute_result"
    }
   ],
   "source": [
    "data_hourly.describe()"
   ]
  },
  {
   "cell_type": "markdown",
   "metadata": {},
   "source": [
    "สังเกตว่า ค่าทางสถิตไม่มีการเปลี่ยนแปลงใดๆ หลังเติมค่าเฉลี่ย"
   ]
  },
  {
   "cell_type": "markdown",
   "metadata": {},
   "source": [
    "---  \n",
    "ส่วนส่งออกเป็นไฟล์ csv เพื่อใช้งานต่อได้ง่าย"
   ]
  },
  {
   "cell_type": "code",
   "execution_count": null,
   "metadata": {},
   "outputs": [],
   "source": [
    "data_hourly.to_csv(\"../data/data_hourly_clean_hourly.csv\", index=False)"
   ]
  },
  {
   "cell_type": "code",
   "execution_count": null,
   "metadata": {},
   "outputs": [],
   "source": [
    "data_daily = data_hourly.groupby([pd.Grouper(freq=\"1D\", key=\"datetime\"), \"station_id\"]).mean()"
   ]
  },
  {
   "cell_type": "code",
   "execution_count": null,
   "metadata": {},
   "outputs": [],
   "source": [
    "data_daily.to_csv(\"../data/data_hourly_clean_daily.csv\")"
   ]
  }
 ],
 "metadata": {
  "kernelspec": {
   "display_name": "Python 3 (ipykernel)",
   "language": "python",
   "name": "python3"
  },
  "language_info": {
   "codemirror_mode": {
    "name": "ipython",
    "version": 3
   },
   "file_extension": ".py",
   "mimetype": "text/x-python",
   "name": "python",
   "nbconvert_exporter": "python",
   "pygments_lexer": "ipython3",
   "version": "3.11.5"
  }
 },
 "nbformat": 4,
 "nbformat_minor": 4
}
